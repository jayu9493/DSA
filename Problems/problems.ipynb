{
 "cells": [
  {
   "cell_type": "markdown",
   "metadata": {},
   "source": [
    "#### Python program to interchange first and last elements in a two list"
   ]
  },
  {
   "cell_type": "code",
   "execution_count": 15,
   "metadata": {},
   "outputs": [
    {
     "name": "stdout",
     "output_type": "stream",
     "text": [
      "[2, 2, 3, 4, 5, 7]\n",
      "[6, 8, 9, 0, 1, 1]\n"
     ]
    }
   ],
   "source": [
    "def change_last():\n",
    "    a=[1,2,3,4,5,6]\n",
    "    b=[7,8,9,0,1,2]\n",
    "    m=len(a)\n",
    "    n=len(b)\n",
    "    first_var1=a[0]\n",
    "    first_var2=b[0]\n",
    "    a[0]=b[n-1]\n",
    "    b[0]=a[m-1]\n",
    "    a[m-1]=first_var2\n",
    "    b[n-1]=first_var1\n",
    "    print(a)\n",
    "    print(b)\n",
    "change_last()"
   ]
  },
  {
   "cell_type": "code",
   "execution_count": 9,
   "metadata": {},
   "outputs": [
    {
     "name": "stdout",
     "output_type": "stream",
     "text": [
      "[6, 2, 3, 4, 5, 1]\n"
     ]
    }
   ],
   "source": [
    "def change_fl():\n",
    "    #Change first and last element of list\n",
    "    a=[1,2,3,4,5,6]\n",
    "    n=len(a)\n",
    "    first_ele=a[0]\n",
    "    last_ele=a[n-1]\n",
    "    a[0]=last_ele\n",
    "    a[n-1]= first_ele\n",
    "    print(a)\n",
    "change_fl()\n",
    "    "
   ]
  },
  {
   "cell_type": "code",
   "execution_count": null,
   "metadata": {},
   "outputs": [],
   "source": [
    "#sum of 1d array\n",
    "class solution:\n",
    "    def sum():\n",
    "        a=[1,1,1,1,1]\n",
    "        n=5\n",
    "        print(a)\n",
    "        for i in range(1,5):\n",
    "            a[i]=a[i-1]+a[i]\n",
    "        print(a)\n",
    "\n",
    "sum()"
   ]
  }
 ],
 "metadata": {
  "kernelspec": {
   "display_name": "Python 3.10.6 64-bit (windows store)",
   "language": "python",
   "name": "python3"
  },
  "language_info": {
   "codemirror_mode": {
    "name": "ipython",
    "version": 3
   },
   "file_extension": ".py",
   "mimetype": "text/x-python",
   "name": "python",
   "nbconvert_exporter": "python",
   "pygments_lexer": "ipython3",
   "version": "3.10.7"
  },
  "orig_nbformat": 4,
  "vscode": {
   "interpreter": {
    "hash": "9e25c0d1541bf5766895d6f6b8e1078dc49a08ba116b92f5a14198ece8b5ec3b"
   }
  }
 },
 "nbformat": 4,
 "nbformat_minor": 2
}
