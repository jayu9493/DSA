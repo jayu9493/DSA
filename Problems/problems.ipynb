{
 "cells": [
  {
   "cell_type": "markdown",
   "metadata": {},
   "source": [
    "#### Python program to interchange first and last elements in a two list"
   ]
  },
  {
   "cell_type": "code",
   "execution_count": 15,
   "metadata": {},
   "outputs": [
    {
     "name": "stdout",
     "output_type": "stream",
     "text": [
      "[2, 2, 3, 4, 5, 7]\n",
      "[6, 8, 9, 0, 1, 1]\n"
     ]
    }
   ],
   "source": [
    "def change_last():\n",
    "    a=[1,2,3,4,5,6]\n",
    "    b=[7,8,9,0,1,2]\n",
    "    m=len(a)\n",
    "    n=len(b)\n",
    "    first_var1=a[0]\n",
    "    first_var2=b[0]\n",
    "    a[0]=b[n-1]\n",
    "    b[0]=a[m-1]\n",
    "    a[m-1]=first_var2\n",
    "    b[n-1]=first_var1\n",
    "    print(a)\n",
    "    print(b)\n",
    "change_last()"
   ]
  },
  {
   "cell_type": "code",
   "execution_count": 9,
   "metadata": {},
   "outputs": [
    {
     "name": "stdout",
     "output_type": "stream",
     "text": [
      "[6, 2, 3, 4, 5, 1]\n"
     ]
    }
   ],
   "source": [
    "def change_fl():\n",
    "    #Change first and last element of list\n",
    "    a=[1,2,3,4,5,6]\n",
    "    n=len(a)\n",
    "    first_ele=a[0]\n",
    "    last_ele=a[n-1]\n",
    "    a[0]=last_ele\n",
    "    a[n-1]= first_ele\n",
    "    print(a)\n",
    "change_fl()\n",
    "    "
   ]
  },
  {
   "cell_type": "code",
   "execution_count": null,
   "metadata": {},
   "outputs": [],
   "source": [
    "#sum of 1d array\n",
    "class solution:\n",
    "    def sum():\n",
    "        a=[1,1,1,1,1]\n",
    "        n=5\n",
    "        print(a)\n",
    "        for i in range(1,5):\n",
    "            a[i]=a[i-1]+a[i]\n",
    "        print(a)\n",
    "\n",
    "sum()"
   ]
  },
  {
   "cell_type": "markdown",
   "metadata": {},
   "source": [
    "## problem statement\n",
    "Given an array of integers nums and an integer target, return indices of the two numbers such that they add up to target.\n",
    "\n",
    "You may assume that each input would have exactly one solution, and you may not use the same element twice.\n",
    "\n",
    "You can return the answer in any order.\n",
    "\n",
    "Example 1:\n",
    "\n",
    "Input: nums = [2,7,11,15], target = 9\n",
    "Output: [0,1]\n",
    "Explanation: Because nums[0] + nums[1] == 9, we return [0, 1]."
   ]
  },
  {
   "cell_type": "code",
   "execution_count": 3,
   "metadata": {},
   "outputs": [
    {
     "name": "stdout",
     "output_type": "stream",
     "text": [
      "4\n",
      "[2, 3]\n"
     ]
    }
   ],
   "source": [
    "nums=[2,7,11,15]\n",
    "target=18\n",
    "i=0\n",
    "print(len(nums))\n",
    "while i<=len(nums)-1:\n",
    "            temp=nums[i]+nums[i-1]\n",
    "            if temp==target:\n",
    "                print([i,i+1])\n",
    "            i+=1\n",
    "    "
   ]
  },
  {
   "cell_type": "code",
   "execution_count": 9,
   "metadata": {},
   "outputs": [
    {
     "name": "stdout",
     "output_type": "stream",
     "text": [
      "[2, 3, 4]\n"
     ]
    }
   ],
   "source": [
    "nums=[]\n",
    "n=int(input())\n",
    "for i in range(0,n):\n",
    "    j=int(input())\n",
    "    nums.append(j)\n",
    "print(nums)\n",
    "while ittr<=len(nums)-1:\n",
    "    temp=nums[i]+nums[i-1]\n",
    "    if temp==target:\n",
    "        print([i,i+1])\n",
    "    i+=1\n"
   ]
  },
  {
   "cell_type": "markdown",
   "metadata": {},
   "source": []
  }
 ],
 "metadata": {
  "kernelspec": {
   "display_name": "Python 3",
   "language": "python",
   "name": "python3"
  },
  "language_info": {
   "codemirror_mode": {
    "name": "ipython",
    "version": 3
   },
   "file_extension": ".py",
   "mimetype": "text/x-python",
   "name": "python",
   "nbconvert_exporter": "python",
   "pygments_lexer": "ipython3",
   "version": "3.10.6"
  },
  "orig_nbformat": 4,
  "vscode": {
   "interpreter": {
    "hash": "916dbcbb3f70747c44a77c7bcd40155683ae19c65e1c03b4aa3499c5328201f1"
   }
  }
 },
 "nbformat": 4,
 "nbformat_minor": 2
}
