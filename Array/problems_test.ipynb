{
 "cells": [
  {
   "cell_type": "code",
   "execution_count": 11,
   "metadata": {},
   "outputs": [
    {
     "name": "stdout",
     "output_type": "stream",
     "text": [
      "[1, 1, 1, 1, 1]\n",
      "[1, 2, 3, 4, 5]\n"
     ]
    }
   ],
   "source": [
    "#sum of 1d array\n",
    "class solution:\n",
    "    def sum():\n",
    "        a=[1,1,1,1,1]\n",
    "        n=5\n",
    "        print(a)\n",
    "        for i in range(1,5):\n",
    "            a[i]=a[i-1]+a[i]\n",
    "        print(a)\n",
    "\n",
    "sum()"
   ]
  },
  {
   "cell_type": "code",
   "execution_count": 22,
   "metadata": {},
   "outputs": [
    {
     "data": {
      "text/plain": [
       "3"
      ]
     },
     "execution_count": 22,
     "metadata": {},
     "output_type": "execute_result"
    }
   ],
   "source": [
    "#Maximum Product of Two Elements in an Array\n",
    "def max():\n",
    "    i=1\n",
    "    j=3\n",
    "    n=[3,4,5,2]\n",
    "    temp=(n[i]-1)*(n[j]-1)\n",
    "    return temp\n",
    "\n",
    "max()"
   ]
  },
  {
   "cell_type": "code",
   "execution_count": 38,
   "metadata": {},
   "outputs": [
    {
     "name": "stdout",
     "output_type": "stream",
     "text": [
      "4\n",
      "2 3\n"
     ]
    }
   ],
   "source": [
    "#problem sum of two elements of array and it should be equal to the target value if it is equal then it should print the index of that values.\n",
    "nums=[2,7,11,15]\n",
    "target=18\n",
    "i=0\n",
    "print(len(nums))\n",
    "while i<=len(nums)-1:\n",
    "            temp=nums[i]+nums[i-1]\n",
    "            if temp==target:\n",
    "                print(i,i+1)\n",
    "            i+=1\n",
    "    "
   ]
  },
  {
   "cell_type": "code",
   "execution_count": 6,
   "metadata": {},
   "outputs": [
    {
     "name": "stdout",
     "output_type": "stream",
     "text": [
      "2 3\n"
     ]
    }
   ],
   "source": [
    "#problem \n",
    "nums=[2,7,11,15]\n",
    "target=26\n",
    "i=0\n",
    "for i in range(len(nums)-1):\n",
    "    temp=nums[i]+nums[i+1]\n",
    "    if target==temp:\n",
    "        print(i,i+1)\n",
    "    "
   ]
  },
  {
   "cell_type": "code",
   "execution_count": null,
   "metadata": {},
   "outputs": [],
   "source": [
    "import numpy as np\n",
    "np.lookfor('sort')"
   ]
  }
 ],
 "metadata": {
  "kernelspec": {
   "display_name": "Python 3.10.6 64-bit (windows store)",
   "language": "python",
   "name": "python3"
  },
  "language_info": {
   "codemirror_mode": {
    "name": "ipython",
    "version": 3
   },
   "file_extension": ".py",
   "mimetype": "text/x-python",
   "name": "python",
   "nbconvert_exporter": "python",
   "pygments_lexer": "ipython3",
   "version": "3.10.7"
  },
  "orig_nbformat": 4,
  "vscode": {
   "interpreter": {
    "hash": "9e25c0d1541bf5766895d6f6b8e1078dc49a08ba116b92f5a14198ece8b5ec3b"
   }
  }
 },
 "nbformat": 4,
 "nbformat_minor": 2
}
