{
 "cells": [
  {
   "cell_type": "markdown",
   "metadata": {},
   "source": [
    "#### Find the maximum and minimim in array.\n",
    "* ##### Here i converted array into list and then sort it with sort method and print the first number in `List_array()` function\n",
    "* ##### in `array_module()` I have used conventional method to sort array that is bubble sort algorithm."
   ]
  },
  {
   "cell_type": "code",
   "execution_count": 39,
   "metadata": {},
   "outputs": [
    {
     "name": "stdout",
     "output_type": "stream",
     "text": [
      "[1, 2, 3, 4, 5, 6, 17, 8, 9]\n",
      "17\n",
      "17\n"
     ]
    }
   ],
   "source": [
    "#Find the maximum and minimim in array.\n",
    "import array as arr\n",
    "from audioop import reverse\n",
    "def making_array():\n",
    "    global arr_var\n",
    "    arr_var=arr.array(\"i\",[1,2,3,4,5,6,17,8,9])\n",
    "def List_array():\n",
    "    arr_var1=list(arr_var)\n",
    "    print(arr_var1)\n",
    "    arr_var1.sort(reverse=True)\n",
    "    print(arr_var1[0])\n",
    "def array_module():\n",
    "    #in this i will try old method\n",
    "    temp=arr_var[0]\n",
    "    n=len(arr_var)\n",
    "    for i in range(1,n):\n",
    "        if arr_var[i]>temp:\n",
    "            temp=arr_var[i]\n",
    "    print(temp)\n",
    "            \n",
    "    \n",
    "making_array()\n",
    "List_array()  \n",
    "array_module()\n",
    "\n"
   ]
  }
 ],
 "metadata": {
  "kernelspec": {
   "display_name": "Python 3.9.12 ('base')",
   "language": "python",
   "name": "python3"
  },
  "language_info": {
   "codemirror_mode": {
    "name": "ipython",
    "version": 3
   },
   "file_extension": ".py",
   "mimetype": "text/x-python",
   "name": "python",
   "nbconvert_exporter": "python",
   "pygments_lexer": "ipython3",
   "version": "3.9.12"
  },
  "orig_nbformat": 4,
  "vscode": {
   "interpreter": {
    "hash": "1cd5aba612e40035cb79162086646ecc81dd74c51981c374d6bc7c8bf89c9445"
   }
  }
 },
 "nbformat": 4,
 "nbformat_minor": 2
}
