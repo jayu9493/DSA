{
 "cells": [
  {
   "cell_type": "markdown",
   "metadata": {},
   "source": [
    "#### Find the maximum and minimim in array.\n",
    "* ##### Here i converted array into list and then sort it with sort method and print the first number in `List_array()` function\n",
    "* ##### in `array_module()` I have used conventional method to sort array that is bubble sort algorithm."
   ]
  },
  {
   "cell_type": "code",
   "execution_count": 39,
   "metadata": {},
   "outputs": [
    {
     "name": "stdout",
     "output_type": "stream",
     "text": [
      "[1, 2, 3, 4, 5, 6, 17, 8, 9]\n",
      "17\n",
      "17\n"
     ]
    }
   ],
   "source": [
    "#find the maximum and minimim in array.\n",
    "import array as arr\n",
    "from audioop import reverse\n",
    "def making_array():\n",
    "    global arr_var\n",
    "    arr_var=arr.array(\"i\",[1,2,3,4,5,6,17,8,9])\n",
    "def List_array():\n",
    "    #convert array into list\n",
    "    arr_var1=list(arr_var)\n",
    "    print(arr_var1)\n",
    "    arr_var1.sort(reverse=True)\n",
    "    print(arr_var1[0])\n",
    "def array_module():\n",
    "    #in this i will try old method\n",
    "    temp=arr_var[0]\n",
    "    n=len(arr_var)\n",
    "    for i in range(1,n):\n",
    "        if arr_var[i]>temp:\n",
    "            temp=arr_var[i]\n",
    "    print(temp)\n",
    "            \n",
    "    \n",
    "making_array()\n",
    "List_array()  \n",
    "array_module()\n",
    "\n"
   ]
  },
  {
   "cell_type": "markdown",
   "metadata": {},
   "source": [
    "#### Now I will reverse the array\n"
   ]
  },
  {
   "cell_type": "code",
   "execution_count": null,
   "metadata": {},
   "outputs": [],
   "source": [
    "import array as arr\n",
    "global arr_var\n",
    "arr_var=arr.array(\"i\",[1,2,3,4,5])\n",
    "def reverse_array_list():\n",
    "    #can do this by converting it in list and then user slicing,reverse method\n",
    "    arr_var_list=list(arr_var)\n",
    "    reverse_arr=arr_var_list[::-1]\n",
    "    print(reverse_arr)\n",
    "    arr_var_list.reverse()\n",
    "    print(arr_var_list)\n",
    "def reverse_array():\n",
    "    #initializing again becoz it is reversed from arr_var_list.reverse()\n",
    "    arr_var=arr.array(\"i\",[1,2,3,4,5])\n",
    "    arr_var.reverse()\n",
    "    n=len(arr_var)\n",
    "    for i in range(0,n):\n",
    "        print(arr_var[i],end=\" \")\n",
    "#calling functions\n",
    "reverse_array_list()\n",
    "reverse_array()"
   ]
  },
  {
   "cell_type": "markdown",
   "metadata": {},
   "source": [
    "#### Finding the kth smallest number in array\n",
    "* Explanation: like in [1,2,3,4,5] 3rd small number is 3"
   ]
  },
  {
   "cell_type": "code",
   "execution_count": 4,
   "metadata": {},
   "outputs": [
    {
     "name": "stdout",
     "output_type": "stream",
     "text": [
      "[17, 21, 25, 34, 43, 54, 56, 89]\n",
      "Your number is: 21\n",
      "17 34 54 21 56 89 43 25 17 21 54 34 56 89 43 25 17 21 25 54 56 89 43 34 17 21 25 34 56 89 54 43 17 21 25 34 43 89 56 54 17 21 25 34 43 54 89 56 17 21 25 34 43 54 56 89 17 21 25 34 43 54 56 89 "
     ]
    }
   ],
   "source": [
    "import array as arr\n",
    "import re\n",
    "global arr_var\n",
    "arr_var=arr.array(\"i\",[17,34,54,21,56,89,43,25])\n",
    "def find_kthsmall():\n",
    "    k=int(input(\"Type which smallest number you want: \"))\n",
    "    arr_var_list=list(arr_var)\n",
    "    arr_var_list.sort()\n",
    "    print(arr_var_list)\n",
    "    print(\"Your number is:\",arr_var_list[k-1])\n",
    "def find_kthsmall_arr():\n",
    "    #we will contine from here, here i have to find or should say learn the sorting techniques so it will be easy to implement code\n",
    "    #find kth smallest number in array\n",
    "    k=int(input(\"Type which smallest number you want: \"))\n",
    "    n=len(arr_var)\n",
    "    for i in range(0,n):\n",
    "        for j in range(i+1,n):\n",
    "            if arr_var[i]>arr_var[j]:\n",
    "                temp=arr_var[i]\n",
    "                arr_var[i]=arr_var[j]\n",
    "                arr_var[j]=temp\n",
    "\n",
    "find_kthsmall()\n",
    "find_kthsmall_arr()"
   ]
  }
 ],
 "metadata": {
  "kernelspec": {
   "display_name": "Python 3.9.12 ('base')",
   "language": "python",
   "name": "python3"
  },
  "language_info": {
   "codemirror_mode": {
    "name": "ipython",
    "version": 3
   },
   "file_extension": ".py",
   "mimetype": "text/x-python",
   "name": "python",
   "nbconvert_exporter": "python",
   "pygments_lexer": "ipython3",
   "version": "3.9.12"
  },
  "orig_nbformat": 4,
  "vscode": {
   "interpreter": {
    "hash": "1cd5aba612e40035cb79162086646ecc81dd74c51981c374d6bc7c8bf89c9445"
   }
  }
 },
 "nbformat": 4,
 "nbformat_minor": 2
}
