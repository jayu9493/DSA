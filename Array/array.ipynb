{
 "cells": [
  {
   "cell_type": "markdown",
   "metadata": {},
   "source": [
    "So this notebook will go through the array module in python we can treat list as array also but in this we are using array module:"
   ]
  },
  {
   "cell_type": "code",
   "execution_count": 5,
   "metadata": {},
   "outputs": [
    {
     "name": "stdout",
     "output_type": "stream",
     "text": [
      "array('i', [1, 2, 3])\n"
     ]
    }
   ],
   "source": [
    "import array as ar\n",
    "#defining array by use of array module\n",
    "arr1=ar.array(\"i\",[1,2,3])\n",
    "print(arr1)"
   ]
  },
  {
   "cell_type": "markdown",
   "metadata": {},
   "source": [
    "Here is just means integer we can use **d** to set datatype float <br />\n",
    "Here we have created array but we cant print direct we have to use the for loop to print the array"
   ]
  },
  {
   "cell_type": "code",
   "execution_count": 6,
   "metadata": {},
   "outputs": [
    {
     "name": "stdout",
     "output_type": "stream",
     "text": [
      "1 2 3 "
     ]
    }
   ],
   "source": [
    "for i in range(0,3):\n",
    "    print(arr1[i],end=\" \")\n"
   ]
  },
  {
   "cell_type": "markdown",
   "metadata": {},
   "source": [
    "If you want to know other data types you can go here. [of course it is from geeksforgeeks](https://media.geeksforgeeks.org/wp-content/uploads/CommonArticleDesign2-min.png) </br>\n",
    "Now we will create one programm that will first add one number to array then access it and then remove it </br>\n",
    "## Inserting elements in array\n",
    "By using append() function: It adds elements to the end of the array.</br >\n",
    "By using insert() function: It inserts the elements at the given index.</br >\n",
    "By using extend() function: It elongates the list by appending elements from both the lists.\n",
    "## Removing elements in array\n",
    "You can remove by index and by value. To remove by index `pop(index)` and by value `remove(value)`"
   ]
  },
  {
   "cell_type": "code",
   "execution_count": 9,
   "metadata": {},
   "outputs": [
    {
     "name": "stdout",
     "output_type": "stream",
     "text": [
      "1 2 3 4 5 \n",
      "The added element is:  5 \n",
      "1 2 3 4 "
     ]
    }
   ],
   "source": [
    "#!/usr/bin/dev python3\n",
    "import array as ar\n",
    "\n",
    "def making_array():\n",
    "    global arr2\n",
    "    arr2=ar.array(\"i\",[1,2,3,4])\n",
    "def adding_array():\n",
    "    arr2.append(5)\n",
    "    for i in range(0,5):\n",
    "        print(arr2[i],end=\" \")\n",
    "def acessing_array():\n",
    "    print() #Adds new line\n",
    "    print(\"The added element is: \",arr2[4],end=\" \")\n",
    "def deleting_array():\n",
    "    print()\n",
    "    arr2.pop(4)\n",
    "    for i in range(0,4):\n",
    "        print(arr2[i],end=\" \")       \n",
    "making_array()\n",
    "adding_array()\n",
    "acessing_array()\n",
    "deleting_array()"
   ]
  },
  {
   "cell_type": "markdown",
   "metadata": {},
   "source": [
    "## Slicing array,updating & Searching in array\n",
    "We will do these things in one code\n",
    "For slicing we use `[start:end]` and for searching we use `index()` method. `index()` method returns the index number of element we are about to find.</br>Updating is provide index numner and then value."
   ]
  },
  {
   "cell_type": "code",
   "execution_count": 30,
   "metadata": {},
   "outputs": [
    {
     "name": "stdout",
     "output_type": "stream",
     "text": [
      "3\n",
      "4\n",
      "5\n",
      "We are returning the index number of 3:\n",
      "index of 3 is 2\n",
      "After Updating:1 2 4 4 5 "
     ]
    }
   ],
   "source": [
    "import array as arr\n",
    "def making_array():\n",
    "    global arr3\n",
    "    arr3=arr.array(\"i\",[1,2,3,4,5,6])\n",
    "def slicing_half():\n",
    "    arr4=arr3[2:5]\n",
    "    for i in range(0,3):\n",
    "        print(arr4[i])\n",
    "#we will search through the main array\n",
    "def serching_array():\n",
    "    print(\"We are returning the index number of 3:\")\n",
    "    print(\"index of 3 is \",end=\"\")\n",
    "    index_3=arr3.index(3)\n",
    "    print(index_3)\n",
    "def updating_array():\n",
    "    arr3[2]=4\n",
    "    print(\"After Updating:\",end=\"\")\n",
    "    for i in range(0,5):\n",
    "        print(arr3[i],end=\" \")\n",
    "\n",
    "making_array()\n",
    "slicing_half()\n",
    "serching_array()\n",
    "updating_array()"
   ]
  },
  {
   "cell_type": "markdown",
   "metadata": {},
   "source": [
    "## Now reversing an array\n",
    "We have used prebuilt method to reverse the array"
   ]
  },
  {
   "cell_type": "code",
   "execution_count": 33,
   "metadata": {},
   "outputs": [
    {
     "name": "stdout",
     "output_type": "stream",
     "text": [
      "6 5 4 3 2 1 "
     ]
    }
   ],
   "source": [
    "def reversing_array():\n",
    "    global arr3\n",
    "    arr3=arr.array(\"i\",[1,2,3,4,5,6])\n",
    "    arr3.reverse()\n",
    "    for i in range(0,6):\n",
    "        print(arr3[i],end=\" \")\n",
    "reversing_array()"
   ]
  },
  {
   "cell_type": "markdown",
   "metadata": {},
   "source": [
    "So Last but not list whole [Documentation of array](https://docs.python.org/3/library/array.html)"
   ]
  }
 ],
 "metadata": {
  "kernelspec": {
   "display_name": "Python 3.10.6 64-bit (windows store)",
   "language": "python",
   "name": "python3"
  },
  "language_info": {
   "codemirror_mode": {
    "name": "ipython",
    "version": 3
   },
   "file_extension": ".py",
   "mimetype": "text/x-python",
   "name": "python",
   "nbconvert_exporter": "python",
   "pygments_lexer": "ipython3",
   "version": "3.10.7"
  },
  "orig_nbformat": 4,
  "vscode": {
   "interpreter": {
    "hash": "9e25c0d1541bf5766895d6f6b8e1078dc49a08ba116b92f5a14198ece8b5ec3b"
   }
  }
 },
 "nbformat": 4,
 "nbformat_minor": 2
}
